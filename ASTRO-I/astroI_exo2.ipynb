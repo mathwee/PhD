{
 "cells": [
  {
   "cell_type": "markdown",
   "metadata": {},
   "source": [
    "# Notebook 2 — Effet Doppler et Vitesse Radiale"
   ]
  },
  {
   "cell_type": "code",
   "execution_count": 3,
   "metadata": {},
   "outputs": [],
   "source": [
    "import numpy as np\n",
    "import matplotlib.pyplot as plt\n",
    "import pandas as pd"
   ]
  },
  {
   "cell_type": "code",
   "execution_count": 4,
   "metadata": {},
   "outputs": [],
   "source": [
    "c = 3e5  # km/s"
   ]
  },
  {
   "cell_type": "markdown",
   "metadata": {},
   "source": [
    "## Rappels théoriques"
   ]
  },
  {
   "cell_type": "code",
   "execution_count": 5,
   "metadata": {},
   "outputs": [],
   "source": [
    "## Compléter la définition du redshift\n",
    "\n",
    "def redshift(lambda_obs, lambda_rest):\n",
    "    return ... ## (lambda_obs - lambda_rest) / lambda_rest"
   ]
  },
  {
   "cell_type": "code",
   "execution_count": 6,
   "metadata": {},
   "outputs": [],
   "source": [
    "## Compléter la fonction de radial velocity\n",
    "\n",
    "def radial_velocity(z):\n",
    "    return ... ## z * c"
   ]
  },
  {
   "cell_type": "markdown",
   "metadata": {},
   "source": [
    "### Exemple"
   ]
  },
  {
   "cell_type": "code",
   "execution_count": 7,
   "metadata": {},
   "outputs": [],
   "source": [
    "lambda_rest = 656.3  # nm (H-alpha)\n",
    "lambda_obs = 660.0"
   ]
  },
  {
   "cell_type": "code",
   "execution_count": 8,
   "metadata": {},
   "outputs": [
    {
     "name": "stdout",
     "output_type": "stream",
     "text": [
      "Redshift z : 0.00564\n",
      "Vitesse radiale (km/s) : 1691.30\n"
     ]
    }
   ],
   "source": [
    "z = redshift(lambda_obs, lambda_rest)\n",
    "v = radial_velocity(z)\n",
    "\n",
    "print(f\"Redshift z : {z:.5f}\")\n",
    "print(f\"Vitesse radiale (km/s) : {v:.2f}\")"
   ]
  },
  {
   "cell_type": "markdown",
   "metadata": {},
   "source": [
    "## Jeu de données"
   ]
  },
  {
   "cell_type": "code",
   "execution_count": 9,
   "metadata": {},
   "outputs": [
    {
     "name": "stdout",
     "output_type": "stream",
     "text": [
      "  Galaxy  lambda_obs (nm)         z      v (km/s)\n",
      "0     G1            660.0  0.005638   1691.299710\n",
      "1     G2            670.0  0.020875   6262.380009\n",
      "2     G3            680.0  0.036112  10833.460308\n",
      "3     G4            665.0  0.013256   3976.839860\n",
      "4     G5            675.0  0.028493   8547.920158\n"
     ]
    }
   ],
   "source": [
    "data = {\n",
    "    'Galaxy': ['G1', 'G2', 'G3', 'G4', 'G5'],\n",
    "    'lambda_obs (nm)': [660.0, 670.0, 680.0, 665.0, 675.0],\n",
    "}\n",
    "\n",
    "df = pd.DataFrame(data)\n",
    "df['z'] = (df['lambda_obs (nm)'] - lambda_rest) / lambda_rest\n",
    "df['v (km/s)'] = df['z'] * c\n",
    "print(df)"
   ]
  },
  {
   "cell_type": "code",
   "execution_count": 10,
   "metadata": {},
   "outputs": [
    {
     "data": {
      "image/png": "[encoded data removed]",
      "text/plain": [
       "<Figure size 640x480 with 1 Axes>"
      ]
     },
     "metadata": {},
     "output_type": "display_data"
    }
   ],
   "source": [
    "plt.figure()\n",
    "plt.scatter(df['z'], df['v (km/s)'])\n",
    "plt.xlabel('Redshift z')\n",
    "plt.ylabel('Vitesse radiale (km/s)')\n",
    "plt.title('Relation z - vitesse radiale')\n",
    "plt.show()"
   ]
  },
  {
   "cell_type": "markdown",
   "metadata": {},
   "source": [
    "Question : Pourquoi le redshift cosmologique n’est-il pas qu’un effet Doppler ?  \n",
    "Question : À grand z, pourquoi faut-il une formule relativiste ?"
   ]
  }
 ],
 "metadata": {
  "kernelspec": {
   "display_name": "env_astro",
   "language": "python",
   "name": "python3"
  },
  "language_info": {
   "codemirror_mode": {
    "name": "ipython",
    "version": 3
   },
   "file_extension": ".py",
   "mimetype": "text/x-python",
   "name": "python",
   "nbconvert_exporter": "python",
   "pygments_lexer": "ipython3",
   "version": "3.13.5"
  }
 },
 "nbformat": 4,
 "nbformat_minor": 2
}
